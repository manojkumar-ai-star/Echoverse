{
  "nbformat": 4,
  "nbformat_minor": 0,
  "metadata": {
    "colab": {
      "machine_shape": "hm",
      "gpuType": "T4",
      "provenance": [],
      "include_colab_link": true
    },
    "accelerator": "GPU",
    "kaggle": {
      "accelerator": "gpu"
    },
    "language_info": {
      "name": "python"
    },
    "kernelspec": {
      "name": "python3",
      "display_name": "Python 3"
    }
  },
  "cells": [
    {
      "cell_type": "markdown",
      "metadata": {
        "id": "view-in-github",
        "colab_type": "text"
      },
      "source": [
        "<a href=\"https://colab.research.google.com/github/manojkumar-ai-star/Echoverse/blob/main/granite_guardian_3_1_2b.ipynb\" target=\"_parent\"><img src=\"https://colab.research.google.com/assets/colab-badge.svg\" alt=\"Open In Colab\"/></a>"
      ]
    },
    {
      "cell_type": "code",
      "source": [
        "\n",
        "import os\n",
        "import tkinter as tk\n",
        "from tkinter import filedialog, messagebox\n",
        "from gtts import gTTS\n",
        "from PyPDF2 import PdfReader\n",
        "import pygame\n",
        "\n",
        "def get_text_from_pdf(pdf_path):\n",
        "    text = \"\"\n",
        "    reader = PdfReader(pdf_path)\n",
        "    for page in reader.pages:\n",
        "        text += page.extract_text() + \"\\n\"\n",
        "    return text\n",
        "\n",
        "def browse_pdf():\n",
        "    file_path = filedialog.askopenfilename(filetypes=[(\"PDF files\", \"*.pdf\")])\n",
        "    if file_path:\n",
        "        pdf_entry.delete(0, tk.END)\n",
        "        pdf_entry.insert(0, file_path)\n",
        "\n",
        "def generate_audio():\n",
        "    text = text_box.get(\"1.0\", tk.END).strip()\n",
        "    pdf_path = pdf_entry.get().strip()\n",
        "\n",
        "    if pdf_path:\n",
        "        if not os.path.exists(pdf_path):\n",
        "            messagebox.showerror(\"Error\", \"PDF file not found!\")\n",
        "            return\n",
        "        text = get_text_from_pdf(pdf_path)\n",
        "\n",
        "    if not text:\n",
        "        messagebox.showerror(\"Error\", \"Please provide text or PDF.\")\n",
        "        return\n",
        "\n",
        "    language = lang_var.get().lower()\n",
        "    gender = gender_var.get().lower()\n",
        "    expression = expression_var.get().lower()\n",
        "\n",
        "    lang_map = {\n",
        "        \"english\": \"en\",\n",
        "        \"tamil\": \"ta\",\n",
        "        \"hindi\": \"hi\",\n",
        "        \"telugu\": \"te\",\n",
        "        \"malayalam\": \"ml\"\n",
        "    }\n",
        "\n",
        "    # Ask user where to save the audio\n",
        "    output_file = filedialog.asksaveasfilename(\n",
        "        defaultextension=\".mp3\",\n",
        "        filetypes=[(\"MP3 files\", \"*.mp3\")],\n",
        "        title=\"Save Audio As\"\n",
        "    )\n",
        "\n",
        "    if not output_file:  # User cancelled\n",
        "        return\n",
        "\n",
        "    # Generate speech\n",
        "    tts = gTTS(text=text, lang=lang_map.get(language, \"en\"))\n",
        "    tts.save(output_file)\n",
        "    messagebox.showinfo(\"Success\", f\"Audio saved as {output_file}\")\n",
        "\n",
        "    # Play audio using pygame\n",
        "    pygame.mixer.init()\n",
        "    pygame.mixer.music.load(output_file)\n",
        "    pygame.mixer.music.play()\n",
        "\n",
        "# GUI setup\n",
        "root = tk.Tk()\n",
        "root.title(\"Text/PDF to Speech with Audio Playback\")\n",
        "\n",
        "tk.Label(root, text=\"Enter Text:\").grid(row=0, column=0, sticky=\"w\")\n",
        "text_box = tk.Text(root, width=60, height=10)\n",
        "text_box.grid(row=1, column=0, columnspan=3, padx=5, pady=5)\n",
        "\n",
        "tk.Label(root, text=\"Or select PDF:\").grid(row=2, column=0, sticky=\"w\")\n",
        "pdf_entry = tk.Entry(root, width=40)\n",
        "pdf_entry.grid(row=2, column=1, padx=5, pady=5)\n",
        "tk.Button(root, text=\"Browse\", command=browse_pdf).grid(row=2, column=2)\n",
        "\n",
        "tk.Label(root, text=\"Language:\").grid(row=3, column=0, sticky=\"w\")\n",
        "lang_var = tk.StringVar(value=\"english\")\n",
        "tk.OptionMenu(root, lang_var, \"english\", \"tamil\", \"hindi\", \"telugu\", \"malayalam\").grid(row=3, column=1)\n",
        "\n",
        "tk.Label(root, text=\"Voice Gender:\").grid(row=4, column=0, sticky=\"w\")\n",
        "gender_var = tk.StringVar(value=\"male\")\n",
        "tk.OptionMenu(root, gender_var, \"male\", \"female\").grid(row=4, column=1)\n",
        "\n",
        "tk.Label(root, text=\"Expression:\").grid(row=5, column=0, sticky=\"w\")\n",
        "expression_var = tk.StringVar(value=\"neutral\")\n",
        "tk.OptionMenu(root, expression_var, \"neutral\", \"happy\", \"sad\", \"angry\").grid(row=5, column=1)\n",
        "\n",
        "tk.Button(root, text=\"Generate Audio\", command=generate_audio, bg=\"green\", fg=\"white\").grid(row=6, column=0, columnspan=3, pady=10)\n",
        "\n",
        "root.mainloop()\n",
        "!pip install -U transformers"
      ],
      "metadata": {
        "id": "oFWJ5hCGzcyI",
        "outputId": "8e181b9e-c5d4-4238-a9e0-5372e59e2c08",
        "colab": {
          "base_uri": "https://localhost:8080/",
          "height": 384
        }
      },
      "execution_count": 4,
      "outputs": [
        {
          "output_type": "error",
          "ename": "ModuleNotFoundError",
          "evalue": "No module named 'gtts'",
          "traceback": [
            "\u001b[0;31m---------------------------------------------------------------------------\u001b[0m",
            "\u001b[0;31mModuleNotFoundError\u001b[0m                       Traceback (most recent call last)",
            "\u001b[0;32m/tmp/ipython-input-2457759320.py\u001b[0m in \u001b[0;36m<cell line: 0>\u001b[0;34m()\u001b[0m\n\u001b[1;32m      2\u001b[0m \u001b[0;32mimport\u001b[0m \u001b[0mtkinter\u001b[0m \u001b[0;32mas\u001b[0m \u001b[0mtk\u001b[0m\u001b[0;34m\u001b[0m\u001b[0;34m\u001b[0m\u001b[0m\n\u001b[1;32m      3\u001b[0m \u001b[0;32mfrom\u001b[0m \u001b[0mtkinter\u001b[0m \u001b[0;32mimport\u001b[0m \u001b[0mfiledialog\u001b[0m\u001b[0;34m,\u001b[0m \u001b[0mmessagebox\u001b[0m\u001b[0;34m\u001b[0m\u001b[0;34m\u001b[0m\u001b[0m\n\u001b[0;32m----> 4\u001b[0;31m \u001b[0;32mfrom\u001b[0m \u001b[0mgtts\u001b[0m \u001b[0;32mimport\u001b[0m \u001b[0mgTTS\u001b[0m\u001b[0;34m\u001b[0m\u001b[0;34m\u001b[0m\u001b[0m\n\u001b[0m\u001b[1;32m      5\u001b[0m \u001b[0;32mfrom\u001b[0m \u001b[0mPyPDF2\u001b[0m \u001b[0;32mimport\u001b[0m \u001b[0mPdfReader\u001b[0m\u001b[0;34m\u001b[0m\u001b[0;34m\u001b[0m\u001b[0m\n\u001b[1;32m      6\u001b[0m \u001b[0;32mimport\u001b[0m \u001b[0mpygame\u001b[0m\u001b[0;34m\u001b[0m\u001b[0;34m\u001b[0m\u001b[0m\n",
            "\u001b[0;31mModuleNotFoundError\u001b[0m: No module named 'gtts'",
            "",
            "\u001b[0;31m---------------------------------------------------------------------------\u001b[0;32m\nNOTE: If your import is failing due to a missing package, you can\nmanually install dependencies using either !pip or !apt.\n\nTo view examples of installing some common dependencies, click the\n\"Open Examples\" button below.\n\u001b[0;31m---------------------------------------------------------------------------\u001b[0m\n"
          ],
          "errorDetails": {
            "actions": [
              {
                "action": "open_url",
                "actionText": "Open Examples",
                "url": "/notebooks/snippets/importing_libraries.ipynb"
              }
            ]
          }
        }
      ]
    },
    {
      "cell_type": "markdown",
      "source": [
        "## Local Inference on GPU\n",
        "Model page: https://huggingface.co/ibm-granite/granite-guardian-3.1-2b\n",
        "\n",
        "⚠️ If the generated code snippets do not work, please open an issue on either the [model repo](https://huggingface.co/ibm-granite/granite-guardian-3.1-2b)\n",
        "\t\t\tand/or on [huggingface.js](https://github.com/huggingface/huggingface.js/blob/main/packages/tasks/src/model-libraries-snippets.ts) 🙏"
      ],
      "metadata": {
        "id": "MNuqUw5KzcyN"
      }
    },
    {
      "cell_type": "code",
      "source": [
        "# Use a pipeline as a high-level helper\n",
        "from transformers import pipeline\n",
        "\n",
        "pipe = pipeline(\"text-generation\", model=\"ibm-granite/granite-guardian-3.1-2b\")\n",
        "messages = [\n",
        "    {\"role\": \"user\", \"content\": \"Who are you?\"},\n",
        "]\n",
        "pipe(messages)"
      ],
      "metadata": {
        "id": "vUFEsz5_zcyQ"
      },
      "execution_count": null,
      "outputs": []
    },
    {
      "cell_type": "code",
      "source": [
        "# Load model directly\n",
        "from transformers import AutoTokenizer, AutoModelForCausalLM\n",
        "\n",
        "tokenizer = AutoTokenizer.from_pretrained(\"ibm-granite/granite-guardian-3.1-2b\")\n",
        "model = AutoModelForCausalLM.from_pretrained(\"ibm-granite/granite-guardian-3.1-2b\")\n",
        "messages = [\n",
        "    {\"role\": \"user\", \"content\": \"Who are you?\"},\n",
        "]\n",
        "inputs = tokenizer.apply_chat_template(\n",
        "\tmessages,\n",
        "\tadd_generation_prompt=True,\n",
        "\ttokenize=True,\n",
        "\treturn_dict=True,\n",
        "\treturn_tensors=\"pt\",\n",
        ").to(model.device)\n",
        "\n",
        "outputs = model.generate(**inputs, max_new_tokens=40)\n",
        "print(tokenizer.decode(outputs[0][inputs[\"input_ids\"].shape[-1]:]))"
      ],
      "metadata": {
        "id": "E6t1KuXfzcyR"
      },
      "execution_count": null,
      "outputs": []
    }
  ]
}